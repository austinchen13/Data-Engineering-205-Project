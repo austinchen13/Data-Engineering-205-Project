{
 "cells": [
  {
   "cell_type": "markdown",
   "id": "3f465500",
   "metadata": {},
   "source": [
    "# Project 2, Part 7, Analysis on continuing to withhold customer data from 3rd parties\n",
    "\n",
    "University of California, Berkeley\n",
    "\n",
    "Master of Information and Data Science (MIDS) program\n",
    "\n",
    "w205 - Fundamentals of Data Engineering\n"
   ]
  },
  {
   "cell_type": "markdown",
   "id": "1cf92eab",
   "metadata": {},
   "source": [
    "# 2.7 Analysis on continuing to withhold customer data from 3rd parties\n",
    "\n",
    "As stated in the scenario, like most companies, AGM does not want to give out its customer list to 3rd party sales channels.  The downside is, as we have seen, that customer first names, last names, and street addresses will have some variations and not be exact matches.\n",
    "\n",
    "The data science team would like your analysis of both options:\n",
    "\n",
    "1)  Continue to withhold the customer data from 3rd party sales channels\n",
    "\n",
    "2)  Give customer data to 3rd party sales channels\n",
    "\n",
    "The data science team would also like your recommendation on which option you think is best.  \n",
    "\n",
    "In the markdown cell, you must provide:\n",
    "* A meaningful title\n",
    "* Write a brief paragraph for option 1.\n",
    "* Write a brief paragraph for option 2.\n",
    "* Write a brief paragraph with your recommendation, which must be either option 1 or option 2, you cannot recommend something else.\n",
    "\n",
    "Put the title and all 3 paragraphs in a single markdown cell.\n",
    "\n",
    "You are not required to write any queries nor any code nor create any data visualizations.  Simply provide English text.\n"
   ]
  },
  {
   "cell_type": "markdown",
   "id": "c8086a63",
   "metadata": {},
   "source": [
    "# Time is Money\n",
    "\n",
    "Continuing to withhold customer data can present a time consuming challenge to the data science team. Having to match the incorrect customers with the actual customer data will result in time wasted in validating the data and less time for data analysis and visualization. Around 13.4% of the customers did not match our customer data, and with data coming in every day, it is simply not worth it to constantly validate the customer data and fix typos. \n",
    "\n",
    "Giving customer data to the 3rd party sales channels will increase the productivity of the data science team. Only the first name, last name, and street address are given to the 3rd party sales channels, so there is not much concern regarding the security of the customers. Many online services require a person’s name and address such as online shopping. \n",
    "\n",
    "As a result, I recommend giving customer data to the 3rd party sales channels. We do not want to spend too much time on validating the unmatching customers in the data. Data security is not a concern as many customers provide their name and address places like credit card companies and online marketplaces. With the ability to have all our customers to analyze, our findings will be more valuable and representative of our customers. \n",
    "\n"
   ]
  },
  {
   "cell_type": "code",
   "execution_count": null,
   "id": "b8c59d2b",
   "metadata": {},
   "outputs": [],
   "source": []
  }
 ],
 "metadata": {
  "kernelspec": {
   "display_name": "Python 3 (ipykernel)",
   "language": "python",
   "name": "python3"
  },
  "language_info": {
   "codemirror_mode": {
    "name": "ipython",
    "version": 3
   },
   "file_extension": ".py",
   "mimetype": "text/x-python",
   "name": "python",
   "nbconvert_exporter": "python",
   "pygments_lexer": "ipython3",
   "version": "3.9.7"
  }
 },
 "nbformat": 4,
 "nbformat_minor": 5
}
